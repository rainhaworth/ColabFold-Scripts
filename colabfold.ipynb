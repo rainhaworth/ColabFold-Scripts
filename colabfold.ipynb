{
 "cells": [
  {
   "cell_type": "code",
   "execution_count": 12,
   "id": "613922e4",
   "metadata": {},
   "outputs": [
    {
     "name": "stdout",
     "output_type": "stream",
     "text": [
      "File with 852 sequences written to pdb70_filter_TRANSPORTPROTEIN.fasta\n"
     ]
    }
   ],
   "source": [
    "# Generate filtered subset of file in FASTA format\n",
    "filestr = \"pdb70_full.fasta\"\n",
    "filterstr = \"TRANSPORT PROTEIN\"\n",
    "outstr = \"pdb70_filter_\" + filterstr.replace(\" \", \"\") + \".fasta\"\n",
    "\n",
    "# Read up to 1GB of data\n",
    "bytes_max = 1000000000\n",
    "\n",
    "with open(filestr,\"r\") as f:\n",
    "    lines = f.readlines(bytes_max)\n",
    "    \n",
    "outfile = \"\"\n",
    "seq_max = 4000\n",
    "seq_count = 0\n",
    "for i in range(len(lines)):\n",
    "    if lines[i].lower().find(filterstr.lower()) != -1:\n",
    "        outfile += lines[i]\n",
    "        outfile += lines[i+1]\n",
    "        seq_count += 1\n",
    "    if seq_count == seq_max:\n",
    "        break\n",
    "\n",
    "with open(outstr,\"w\") as f:\n",
    "    f.write(outfile)\n",
    "    \n",
    "print(\"File with\", seq_count, \"sequences written to\", outstr)"
   ]
  },
  {
   "cell_type": "code",
   "execution_count": null,
   "id": "06226b9c",
   "metadata": {},
   "outputs": [],
   "source": [
    "# To convert FASTA to A3M, use the HHblits toolkit: https://toolkit.tuebingen.mpg.de/tools/hhblits\n",
    "# Make sure you remove the #A3M# header line before (or after) you put it into ColabFold or it will break!"
   ]
  },
  {
   "cell_type": "code",
   "execution_count": 16,
   "id": "ff2bafbc",
   "metadata": {},
   "outputs": [
    {
     "name": "stdout",
     "output_type": "stream",
     "text": [
      "Model averages: [35.911818181818184, 34.337433155080205, 27.502620320855613, 27.231497326203204, 25.261122994652407]\n",
      "Mean pLDDT: 30.04889839572192\n"
     ]
    }
   ],
   "source": [
    "# Calculate average pLDDT from zip file\n",
    "import zipfile\n",
    "import json\n",
    "import numpy as np\n",
    "\n",
    "zipstr = \"C:\\\\Users\\\\rainh\\\\Downloads\\\\transport_protein_clustalo_ca73a.result.zip\"\n",
    "\n",
    "z = zipfile.ZipFile(zipstr)\n",
    "\n",
    "outscores = []\n",
    "\n",
    "for scores in [f for f in z.namelist() if f.find(\"scores.json\") != -1]:\n",
    "    with z.open(scores) as file:\n",
    "        j = json.loads(file.readline())\n",
    "        outscores.append(np.mean(j['plddt']))\n",
    "\n",
    "print(\"Model averages:\", outscores)\n",
    "print(\"Mean pLDDT:\", np.mean(outscores))"
   ]
  },
  {
   "cell_type": "code",
   "execution_count": null,
   "id": "cc7c927d",
   "metadata": {},
   "outputs": [],
   "source": []
  }
 ],
 "metadata": {
  "kernelspec": {
   "display_name": "Python 3 (ipykernel)",
   "language": "python",
   "name": "python3"
  },
  "language_info": {
   "codemirror_mode": {
    "name": "ipython",
    "version": 3
   },
   "file_extension": ".py",
   "mimetype": "text/x-python",
   "name": "python",
   "nbconvert_exporter": "python",
   "pygments_lexer": "ipython3",
   "version": "3.9.12"
  }
 },
 "nbformat": 4,
 "nbformat_minor": 5
}
